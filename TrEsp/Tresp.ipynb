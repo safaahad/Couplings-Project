{
 "cells": [
  {
   "cell_type": "code",
   "execution_count": 529,
   "metadata": {},
   "outputs": [
    {
     "ename": "NameError",
     "evalue": "name 'Mg1' is not defined",
     "output_type": "error",
     "traceback": [
      "\u001b[0;31m---------------------------------------------------------------------------\u001b[0m",
      "\u001b[0;31mNameError\u001b[0m                                 Traceback (most recent call last)",
      "\u001b[0;32m<ipython-input-529-85ba76baf1ba>\u001b[0m in \u001b[0;36m<module>\u001b[0;34m\u001b[0m\n\u001b[1;32m      2\u001b[0m \u001b[0;34m\u001b[0m\u001b[0m\n\u001b[1;32m      3\u001b[0m \u001b[0;34m\u001b[0m\u001b[0m\n\u001b[0;32m----> 4\u001b[0;31m \u001b[0mdipolelengthsMG\u001b[0m\u001b[0;34m=\u001b[0m\u001b[0;34m[\u001b[0m\u001b[0mMg1\u001b[0m\u001b[0;34m,\u001b[0m \u001b[0mMg2\u001b[0m\u001b[0;34m]\u001b[0m\u001b[0;34m\u001b[0m\u001b[0;34m\u001b[0m\u001b[0m\n\u001b[0m\u001b[1;32m      5\u001b[0m \u001b[0mPorphDipLength\u001b[0m\u001b[0;34m=\u001b[0m\u001b[0;34m[\u001b[0m\u001b[0;36m8.7870e-18\u001b[0m\u001b[0;34m,\u001b[0m \u001b[0;36m9.7337e-18\u001b[0m\u001b[0;34m]\u001b[0m\u001b[0;34m\u001b[0m\u001b[0;34m\u001b[0m\u001b[0m\n",
      "\u001b[0;31mNameError\u001b[0m: name 'Mg1' is not defined"
     ]
    }
   ],
   "source": [
    "#MG DIMER\n",
    "\n",
    "\n",
    "dipolelengthsMG=[Mg1, Mg2]\n",
    "PorphDipLength=[8.7870e-18, 9.7337e-18]"
   ]
  },
  {
   "cell_type": "code",
   "execution_count": 2,
   "metadata": {
    "collapsed": true
   },
   "outputs": [],
   "source": [
    "import os,sys\n",
    "sys.path.append('./misc/lib/python3.7/site-packages')\n",
    "\n",
    "import math, time, os, requests, re\n",
    "import numpy as np\n",
    "import matplotlib.pyplot as plt\n",
    "%matplotlib notebook\n",
    "from IPython.display import Javascript, display\n",
    "from os import listdir\n",
    "from os.path import join, isfile\n",
    "import glob\n",
    "\n",
    "np.set_printoptions(precision=1000)\n",
    "np.set_printoptions(suppress=True)"
   ]
  },
  {
   "cell_type": "code",
   "execution_count": 6,
   "metadata": {},
   "outputs": [
    {
     "ename": "NameError",
     "evalue": "name 'ZnMon1_Q10' is not defined",
     "output_type": "error",
     "traceback": [
      "\u001b[0;31m---------------------------------------------------------------------------\u001b[0m",
      "\u001b[0;31mNameError\u001b[0m                                 Traceback (most recent call last)",
      "\u001b[0;32m<ipython-input-6-3b7dc61acd0e>\u001b[0m in \u001b[0;36m<module>\u001b[0;34m\u001b[0m\n\u001b[1;32m     30\u001b[0m \u001b[0;34m\u001b[0m\u001b[0m\n\u001b[1;32m     31\u001b[0m \u001b[0mPorphQ10\u001b[0m\u001b[0;34m=\u001b[0m\u001b[0mlist\u001b[0m\u001b[0;34m(\u001b[0m\u001b[0;34m)\u001b[0m\u001b[0;34m\u001b[0m\u001b[0;34m\u001b[0m\u001b[0m\n\u001b[0;32m---> 32\u001b[0;31m \u001b[0mPorphQ10\u001b[0m\u001b[0;34m.\u001b[0m\u001b[0mappend\u001b[0m\u001b[0;34m(\u001b[0m\u001b[0mZnMon1_Q10\u001b[0m\u001b[0;34m)\u001b[0m\u001b[0;34m\u001b[0m\u001b[0;34m\u001b[0m\u001b[0m\n\u001b[0m\u001b[1;32m     33\u001b[0m \u001b[0mPorphQ10\u001b[0m\u001b[0;34m.\u001b[0m\u001b[0mappend\u001b[0m\u001b[0;34m(\u001b[0m\u001b[0mZnMon2_Q10\u001b[0m\u001b[0;34m)\u001b[0m\u001b[0;34m\u001b[0m\u001b[0;34m\u001b[0m\u001b[0m\n\u001b[1;32m     34\u001b[0m \u001b[0;34m\u001b[0m\u001b[0m\n",
      "\u001b[0;31mNameError\u001b[0m: name 'ZnMon1_Q10' is not defined"
     ]
    }
   ],
   "source": [
    "import pandas as pd\n",
    "import glob, os, math, numpy, fileinput, subprocess\n",
    "\n",
    "data=np.loadtxt('test.csv', delimiter=',')\n",
    "# dfs=list()\n",
    "# fname = os.path.join(\"./\",\n",
    "#                      \"shift8.0_slip9_theta0.csv\")\n",
    "# data = pd.read_csv(fname, header=None)\n",
    "data1=data[0:82]\n",
    "data2=data[82:164]\n",
    "\n",
    "AtNames=[data[0]]\n",
    "ZnMon1_AtNames=[data1[0]]\n",
    "ZnMon2_AtNames=[data2[0]]\n",
    "\n",
    "#Monomer1\n",
    "x1=[data1[1]]\n",
    "y1=[data1[2]]\n",
    "z1=[data1[3]]\n",
    "\n",
    "#Monomer2\n",
    "x2=[data2[1]]\n",
    "y2=[data2[2]]\n",
    "z2=[data2[3]]\n",
    "\n",
    "\n",
    "PorphAtNames=list()\n",
    "PorphAtNames.append(ZnMon1_AtNames)\n",
    "PorphAtNames.append(ZnMon2_AtNames)\n",
    "\n",
    "PorphQ10=list()\n",
    "PorphQ10.append(ZnMon1_Q10)\n",
    "PorphQ10.append(ZnMon2_Q10)\n",
    "\n",
    "PorphNames = ['ZnMon1', 'ZnMon2']\n",
    "PorphResNames = ['ZnMon1', 'ZnMon2']\n",
    "\n",
    "#dipolelengthsZn = [Zn1, Zn2]\n",
    "PorphDipLength = [8.7413e-18, 9.6683e-18] #I got these values from the optimized geometry of each monomer Debye\n",
    "\n",
    "h = 6.62607015e-34 #J*s\n",
    "c = 2.998e10 #cm/s\n",
    "eo = 4.80320451e-10 # esu\n",
    "    \n",
    "Erg2J = 1.0e-7\n",
    "ang2cm = 1.0e-8\n",
    "\n",
    "#Transition chargesdat1\n",
    "ZnMon1_AtNames = ['Zn', 'C', 'C', 'H', 'C', 'H', 'C', 'H', 'N', 'C', 'C', 'H', 'C', 'H', 'C', 'C', 'H', 'H', 'H', 'C', 'H', 'H', 'C', 'H', 'H', 'C', 'O', 'O', 'N', 'C', 'C', 'C', 'C', 'C', 'H', 'H', 'H','C', 'H', 'C', 'H', 'H', 'N', 'C', 'C', 'C', 'C', 'C','H', 'H', 'H', 'C', 'H', 'H', 'C', 'H', 'H', 'H', 'N', 'C', 'C', 'C', 'C', 'C', 'H', 'H', 'H', 'C', 'O', 'C', 'H', 'C', 'O', 'O', 'C', 'H', 'H', 'H', 'C', 'H', 'H', 'H']\n",
    "ZnMon1_Q10 = np.array([-0.0062,0.1184,-0.0297,0.0008,-0.1864,0.0176,0.0582,-0.0020,0.0128,-0.0874,-0.0527,0.0100,0.0184,-0.0010,0.0975,-0.0187,0.0069,0.0124,0.0003,0.0121,-0.0044,-0.0006,0.0119,-0.0066,-0.0048,-0.0008,0.0019,-0.0026,-0.0892,0.0663,0.0049,0.0148,0.1575,-0.0043,0.0069,0.0088,0.0046,-0.0243,0.0073,0.0285,-0.0036,0.0018,-0.0261,0.1611,-0.0214, 0.0285, -0.0584, -0.0065, 0.0010, 0.0026, 0.0005, -0.0054, 0.0045, 0.0018, 0.0035, -0.0018, 0.0025, 0.0012, 0.0923, -0.0955, -0.0198, -0.0346, -0.1194, 0.0136, -0.0156, -0.0041, -0.0146, 0.0217, -0.0291,-0.0544,0.0091,0.0257,-0.0082,-0.0107,-0.0004,0.0031,-0.0030,0.0013,0.0006,0.0000,-0.0006,-0.0001])\n",
    "ZnMon1_Q10 = ZnMon1_Q10*4.80326e-10*1e-3 # cgs base units for charge: cm^3/2 g^1/2 s^−1\n",
    "\n",
    "ZnMon2_AtNames = ['Zn', 'C', 'C', 'H', 'C', 'H', 'C', 'H', 'N', 'C', 'C', 'H', 'C', 'H', 'C', 'C', 'H', 'H', 'H', 'C', 'H', 'H', 'C', 'H', 'H', 'C', 'O', 'O', 'N', 'C', 'C', 'C', 'C', 'C', 'H', 'H', 'H','C', 'H', 'C', 'H', 'H', 'N', 'C', 'C', 'C', 'C', 'C','H', 'H', 'H', 'C', 'H', 'H', 'C', 'H', 'H', 'H', 'N', 'C', 'C', 'C', 'C', 'C', 'H', 'H', 'H', 'C', 'O', 'C', 'H', 'C', 'O', 'O', 'C', 'H', 'H', 'H', 'C', 'H', 'H', 'H']\n",
    "ZnMon2_Q10 = np.array([-0.0014,0.1206,-0.0347,0.0011,-0.1884,0.0175,0.0455,-0.0009,0.0094,-0.0861,-0.0513,0.0107,0.0145,-0.0003,0.1074,-0.0147,0.0054,0.0114,-0.0003,-0.0027,-0.0009,0.0041,0.0210,-0.0080,-0.0057,-0.0055,-0.0006,0.0032,-0.0940,0.0678,0.0045,0.0140,0.1588,-0.0055,0.0073,0.0091,0.0047,-0.0225,0.0067,0.0272,-0.0034,0.0018,-0.0263,0.1592,-0.0149,0.0204,-0.0503,-0.0070,0.0007,0.0025,0.0006,-0.0026,0.0041,0.0023,0.0001,-0.0012,0.0032,0.0021,0.0839,-0.0828,-0.0233,-0.0377,-0.1126,0.0176,-0.0156,-0.0163,-0.0053,0.0279,-0.0293,-0.0694,0.0128,0.0271,-0.0068,-0.0107,0.0046,0.0018,-0.0038,-0.0006,-0.0032,0.0018,-0.0001,0.0004])\n",
    "ZnMon2_Q10 = ZnMon2_Q10*4.80326e-10*1e-3"
   ]
  },
  {
   "cell_type": "code",
   "execution_count": 9,
   "metadata": {},
   "outputs": [
    {
     "ename": "NameError",
     "evalue": "name 'ZnMon1_Q10' is not defined",
     "output_type": "error",
     "traceback": [
      "\u001b[0;31m---------------------------------------------------------------------------\u001b[0m",
      "\u001b[0;31mNameError\u001b[0m                                 Traceback (most recent call last)",
      "\u001b[0;32m<ipython-input-9-57a643dcdd6b>\u001b[0m in \u001b[0;36m<module>\u001b[0;34m\u001b[0m\n\u001b[1;32m      4\u001b[0m         \u001b[0mRmn\u001b[0m \u001b[0;34m=\u001b[0m \u001b[0;34m(\u001b[0m\u001b[0mdata1\u001b[0m\u001b[0;34m[\u001b[0m\u001b[0matm\u001b[0m\u001b[0;34m,\u001b[0m\u001b[0;34m:\u001b[0m\u001b[0;34m]\u001b[0m \u001b[0;34m-\u001b[0m \u001b[0mdata2\u001b[0m\u001b[0;34m[\u001b[0m\u001b[0matn\u001b[0m\u001b[0;34m,\u001b[0m\u001b[0;34m:\u001b[0m\u001b[0;34m]\u001b[0m\u001b[0;34m)\u001b[0m\u001b[0;34m*\u001b[0m\u001b[0;36m1.0e-8\u001b[0m\u001b[0;34m\u001b[0m\u001b[0;34m\u001b[0m\u001b[0m\n\u001b[1;32m      5\u001b[0m         \u001b[0mrmn\u001b[0m \u001b[0;34m=\u001b[0m \u001b[0mnp\u001b[0m\u001b[0;34m.\u001b[0m\u001b[0mlinalg\u001b[0m\u001b[0;34m.\u001b[0m\u001b[0mnorm\u001b[0m\u001b[0;34m(\u001b[0m\u001b[0mRmn\u001b[0m\u001b[0;34m)\u001b[0m\u001b[0;34m\u001b[0m\u001b[0;34m\u001b[0m\u001b[0m\n\u001b[0;32m----> 6\u001b[0;31m         \u001b[0mCoupling\u001b[0m\u001b[0;34m+=\u001b[0m \u001b[0;34m(\u001b[0m\u001b[0;34m(\u001b[0m\u001b[0;34m(\u001b[0m\u001b[0mZnMon1_Q10\u001b[0m\u001b[0;34m[\u001b[0m\u001b[0matm\u001b[0m\u001b[0;34m]\u001b[0m\u001b[0;34m*\u001b[0m\u001b[0mZnMon2_Q10\u001b[0m\u001b[0;34m[\u001b[0m\u001b[0matn\u001b[0m\u001b[0;34m]\u001b[0m\u001b[0;34m)\u001b[0m\u001b[0;34m/\u001b[0m\u001b[0;34m(\u001b[0m\u001b[0mrmn\u001b[0m\u001b[0;34m)\u001b[0m\u001b[0;34m)\u001b[0m\u001b[0;34m*\u001b[0m\u001b[0;34m(\u001b[0m\u001b[0;36m1e-7\u001b[0m\u001b[0;34m)\u001b[0m\u001b[0;34m)\u001b[0m\u001b[0;34m/\u001b[0m\u001b[0;34m(\u001b[0m\u001b[0mh\u001b[0m\u001b[0;34m*\u001b[0m\u001b[0mc\u001b[0m\u001b[0;34m)\u001b[0m\u001b[0;34m\u001b[0m\u001b[0;34m\u001b[0m\u001b[0m\n\u001b[0m\u001b[1;32m      7\u001b[0m \u001b[0mprint\u001b[0m\u001b[0;34m(\u001b[0m\u001b[0mCoupling\u001b[0m\u001b[0;34m)\u001b[0m\u001b[0;34m\u001b[0m\u001b[0;34m\u001b[0m\u001b[0m\n\u001b[1;32m      8\u001b[0m \u001b[0;31m#CoupMat = CoupMat + np.transpose(CoupMat)\u001b[0m\u001b[0;34m\u001b[0m\u001b[0;34m\u001b[0m\u001b[0;34m\u001b[0m\u001b[0m\n",
      "\u001b[0;31mNameError\u001b[0m: name 'ZnMon1_Q10' is not defined"
     ]
    }
   ],
   "source": [
    "Coupling=0\n",
    "for atm in range(0, len(data1)):\n",
    "    for atn in range(0, len(data2)):\n",
    "        Rmn = (data1[atm,:] - data2[atn,:])*1.0e-8\n",
    "        rmn = np.linalg.norm(Rmn) \n",
    "        Coupling+= (((ZnMon1_Q10[atm]*ZnMon2_Q10[atn])/(rmn))*(1e-7))/(h*c)\n",
    "print(Coupling)\n",
    "#CoupMat = CoupMat + np.transpose(CoupMat)"
   ]
  },
  {
   "cell_type": "code",
   "execution_count": null,
   "metadata": {
    "collapsed": true
   },
   "outputs": [],
   "source": []
  }
 ],
 "metadata": {
  "kernelspec": {
   "display_name": "Python 3.8 (Anaconda 2020.11)",
   "language": "python",
   "name": "anaconda-2020.11-py38"
  },
  "language_info": {
   "codemirror_mode": {
    "name": "ipython",
    "version": 3
   },
   "file_extension": ".py",
   "mimetype": "text/x-python",
   "name": "python",
   "nbconvert_exporter": "python",
   "pygments_lexer": "ipython3",
   "version": "3.8.5"
  }
 },
 "nbformat": 4,
 "nbformat_minor": 2
}
